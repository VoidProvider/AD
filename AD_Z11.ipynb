{
 "cells": [
  {
   "cell_type": "markdown",
   "metadata": {},
   "source": [
    "# Zad 1.\n",
    "Wygeneruj dane 2d w kształcie równoległoboku. Wykonaj ICA i narysuj wszystkie komponenty (bazę i odzyskane sygnały)\n",
    "\n",
    "http://scikit-learn.org/stable/auto_examples/decomposition/plot_ica_vs_pca.html."
   ]
  },
  {
   "cell_type": "code",
   "execution_count": null,
   "metadata": {
    "collapsed": true
   },
   "outputs": [],
   "source": []
  },
  {
   "cell_type": "markdown",
   "metadata": {},
   "source": [
    "# Zad 2.\n",
    "Wygeneruj dwa sygnały typu sinus oraz stwórz dane za pomocą macierzy mieszającej [1/2,1/2;-1/2,1/2].\n",
    "Wykonaj ICA i odzyskaj oryginalne dane."
   ]
  },
  {
   "cell_type": "code",
   "execution_count": null,
   "metadata": {
    "collapsed": true
   },
   "outputs": [],
   "source": []
  },
  {
   "cell_type": "markdown",
   "metadata": {},
   "source": [
    "# Zad 3.\n",
    "Wybierz dwa obrazki. Dokonaj mieszania obrazów (dodaj je od siebie i odejmij). Wykonaj ICA i odzyskaj oryginalne dane.\n",
    "\n",
    "![alt](https://raw.githubusercontent.com/przem85/PGiM/master/img/eagle.jpg)\n",
    "![alt](https://raw.githubusercontent.com/przem85/PGiM/master/img/lake.jpg)"
   ]
  },
  {
   "cell_type": "markdown",
   "metadata": {},
   "source": [
    "# Zad 4.\n",
    "Wybierz dwa dźwięki np. \n",
    "  * http://ww2.ii.uj.edu.pl/~spurek/ICA/source1.wav\n",
    "  * http://ww2.ii.uj.edu.pl/~spurek/ICA/source2.wav\n",
    "  * http://ww2.ii.uj.edu.pl/~spurek/ICA/source3.wav\n",
    "  * http://ww2.ii.uj.edu.pl/~spurek/ICA/source4.wav \n",
    "  * http://ww2.ii.uj.edu.pl/~spurek/ICA/source5.wav \n",
    "  * http://ww2.ii.uj.edu.pl/~spurek/ICA/source6.wav   \n",
    "  * http://ww2.ii.uj.edu.pl/~spurek/ICA/source7.wav\n",
    "  * http://ww2.ii.uj.edu.pl/~spurek/ICA/source8.wav\n",
    "  \n",
    "Dokonaj mieszania dźwięku (dodaj je od siebie i odejmij). Wykonaj ICA i odzyskaj oryginalne dane."
   ]
  },
  {
   "cell_type": "code",
   "execution_count": null,
   "metadata": {
    "collapsed": true
   },
   "outputs": [],
   "source": []
  }
 ],
 "metadata": {
  "kernelspec": {
   "display_name": "Python 3",
   "language": "python",
   "name": "python3"
  },
  "language_info": {
   "codemirror_mode": {
    "name": "ipython",
    "version": 3
   },
   "file_extension": ".py",
   "mimetype": "text/x-python",
   "name": "python",
   "nbconvert_exporter": "python",
   "pygments_lexer": "ipython3",
   "version": "3.5.4"
  }
 },
 "nbformat": 4,
 "nbformat_minor": 2
}
